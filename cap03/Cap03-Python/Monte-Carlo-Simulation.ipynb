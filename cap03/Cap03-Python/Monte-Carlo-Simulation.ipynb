{
 "cells": [
  {
   "cell_type": "markdown",
   "metadata": {},
   "source": [
    "\n",
    "# <font color='blue'>Business Analytics</font>\n",
    "\n"
   ]
  },
  {
   "cell_type": "markdown",
   "metadata": {},
   "source": [
    "### Estudo Dirigido - Simulação de Monte Carlo e Séries Temporais Para Modelagem Financeira"
   ]
  },
  {
   "cell_type": "code",
   "execution_count": 1,
   "metadata": {},
   "outputs": [
    {
     "name": "stdout",
     "output_type": "stream",
     "text": [
      "Versão da Linguagem Python Usada Neste Jupyter Notebook: 3.7.3\n"
     ]
    }
   ],
   "source": [
    "# Versão da Linguagem Python\n",
    "from platform import python_version\n",
    "print('Versão da Linguagem Python Usada Neste Jupyter Notebook:', python_version())"
   ]
  },
  {
   "cell_type": "markdown",
   "metadata": {},
   "source": [
    "> Todos os detahes sobre este projeto estão no manual em pdf no item anterior.\n"
   ]
  },
  {
   "cell_type": "code",
   "execution_count": 2,
   "metadata": {},
   "outputs": [],
   "source": [
    "# Para atualizar um pacote, execute o comando abaixo no terminal ou prompt de comando:\n",
    "# pip install -U nome_pacote\n",
    "\n",
    "# Para instalar a versão exata de um pacote, execute o comando abaixo no terminal ou prompt de comando:\n",
    "# pip install nome_pacote==versão_desejada\n",
    "\n",
    "# Depois de instalar ou atualizar o pacote, reinicie o jupyter notebook.\n",
    "\n",
    "# Instala o pacote watermark. \n",
    "# Esse pacote é usado para gravar as versões de outros pacotes usados neste jupyter notebook.\n",
    "!pip install -q -U watermark"
   ]
  },
  {
   "cell_type": "markdown",
   "metadata": {},
   "source": [
    "### Carregando os Pacotes"
   ]
  },
  {
   "cell_type": "code",
   "execution_count": 3,
   "metadata": {},
   "outputs": [],
   "source": [
    "# Imports para manipulação de dados\n",
    "import numpy as np\n",
    "import pandas as pd\n",
    "\n",
    "# Imports para visualização\n",
    "import matplotlib.pyplot as plt\n",
    "import matplotlib as m\n",
    "import seaborn as sns\n",
    "\n",
    "# Imports para cálculos estatísticos\n",
    "import scipy\n",
    "from scipy.stats import kurtosis, skew, shapiro\n",
    "import warnings\n",
    "warnings.filterwarnings(\"ignore\")\n",
    "\n",
    "# Imports para formatação dos gráficos\n",
    "plt.style.use('fivethirtyeight')\n",
    "m.rcParams['axes.labelsize'] = 14\n",
    "m.rcParams['xtick.labelsize'] = 12\n",
    "m.rcParams['ytick.labelsize'] = 12\n",
    "m.rcParams['text.color'] = 'k'\n",
    "from matplotlib.pylab import rcParams \n",
    "rcParams['figure.figsize'] = 20,10"
   ]
  },
  {
   "cell_type": "code",
   "execution_count": 5,
   "metadata": {},
   "outputs": [
    {
     "name": "stdout",
     "output_type": "stream",
     "text": [
      "Author: Joao Souza\n",
      "\n",
      "pandas    : 0.24.2\n",
      "seaborn   : 0.9.0\n",
      "matplotlib: 3.0.3\n",
      "numpy     : 1.16.2\n",
      "scipy     : 1.2.1\n",
      "\n"
     ]
    }
   ],
   "source": [
    "# Versões dos pacotes usados neste jupyter notebook\n",
    "%reload_ext watermark\n",
    "%watermark -a \"Joao Souza\" --iversions"
   ]
  },
  {
   "cell_type": "markdown",
   "metadata": {},
   "source": [
    "### Carregando os Dados"
   ]
  },
  {
   "cell_type": "code",
   "execution_count": 6,
   "metadata": {},
   "outputs": [],
   "source": [
    "# Carrega o dataset\n",
    "# Obs: O valor das ações foi ajustado para facilitar a criação dos gráficos de forma didática\n",
    "dados = pd.read_csv(\"dados/dataset.csv\", parse_dates = True, index_col = \"Data\")"
   ]
  },
  {
   "cell_type": "code",
   "execution_count": 7,
   "metadata": {},
   "outputs": [
    {
     "data": {
      "text/html": [
       "<div>\n",
       "<style scoped>\n",
       "    .dataframe tbody tr th:only-of-type {\n",
       "        vertical-align: middle;\n",
       "    }\n",
       "\n",
       "    .dataframe tbody tr th {\n",
       "        vertical-align: top;\n",
       "    }\n",
       "\n",
       "    .dataframe thead th {\n",
       "        text-align: right;\n",
       "    }\n",
       "</style>\n",
       "<table border=\"1\" class=\"dataframe\">\n",
       "  <thead>\n",
       "    <tr style=\"text-align: right;\">\n",
       "      <th></th>\n",
       "      <th>Abertura</th>\n",
       "      <th>Fechamento</th>\n",
       "      <th>Maximo</th>\n",
       "      <th>Minimo</th>\n",
       "      <th>Volume</th>\n",
       "      <th>Mudanca(%)</th>\n",
       "    </tr>\n",
       "    <tr>\n",
       "      <th>Data</th>\n",
       "      <th></th>\n",
       "      <th></th>\n",
       "      <th></th>\n",
       "      <th></th>\n",
       "      <th></th>\n",
       "      <th></th>\n",
       "    </tr>\n",
       "  </thead>\n",
       "  <tbody>\n",
       "    <tr>\n",
       "      <th>2020-03-10</th>\n",
       "      <td>276.0</td>\n",
       "      <td>270.3</td>\n",
       "      <td>280.0</td>\n",
       "      <td>268.0</td>\n",
       "      <td>109.42</td>\n",
       "      <td>0.00</td>\n",
       "    </tr>\n",
       "    <tr>\n",
       "      <th>2020-03-10</th>\n",
       "      <td>275.0</td>\n",
       "      <td>270.3</td>\n",
       "      <td>280.0</td>\n",
       "      <td>268.0</td>\n",
       "      <td>124.56</td>\n",
       "      <td>0.11</td>\n",
       "    </tr>\n",
       "    <tr>\n",
       "      <th>2020-03-09</th>\n",
       "      <td>266.0</td>\n",
       "      <td>270.0</td>\n",
       "      <td>284.0</td>\n",
       "      <td>259.5</td>\n",
       "      <td>191.21</td>\n",
       "      <td>-7.91</td>\n",
       "    </tr>\n",
       "    <tr>\n",
       "      <th>2020-03-06</th>\n",
       "      <td>294.6</td>\n",
       "      <td>293.2</td>\n",
       "      <td>294.9</td>\n",
       "      <td>283.0</td>\n",
       "      <td>104.89</td>\n",
       "      <td>-1.48</td>\n",
       "    </tr>\n",
       "    <tr>\n",
       "      <th>2020-03-05</th>\n",
       "      <td>303.0</td>\n",
       "      <td>297.6</td>\n",
       "      <td>305.5</td>\n",
       "      <td>294.2</td>\n",
       "      <td>90.58</td>\n",
       "      <td>0.68</td>\n",
       "    </tr>\n",
       "  </tbody>\n",
       "</table>\n",
       "</div>"
      ],
      "text/plain": [
       "            Abertura  Fechamento  Maximo  Minimo  Volume  Mudanca(%)\n",
       "Data                                                                \n",
       "2020-03-10     276.0       270.3   280.0   268.0  109.42        0.00\n",
       "2020-03-10     275.0       270.3   280.0   268.0  124.56        0.11\n",
       "2020-03-09     266.0       270.0   284.0   259.5  191.21       -7.91\n",
       "2020-03-06     294.6       293.2   294.9   283.0  104.89       -1.48\n",
       "2020-03-05     303.0       297.6   305.5   294.2   90.58        0.68"
      ]
     },
     "execution_count": 7,
     "metadata": {},
     "output_type": "execute_result"
    }
   ],
   "source": [
    "# Visualizando registros\n",
    "# Cada coluna representa o valor da ação em cada dia da série.\n",
    "# valor de abertura, fechamento, máximo, mínimo e volume. \n",
    "# A coluna Mudanca(%) representa a variação diária.\n",
    "dados.head()"
   ]
  },
  {
   "cell_type": "code",
   "execution_count": 8,
   "metadata": {},
   "outputs": [
    {
     "data": {
      "text/plain": [
       "Abertura      float64\n",
       "Fechamento    float64\n",
       "Maximo        float64\n",
       "Minimo        float64\n",
       "Volume        float64\n",
       "Mudanca(%)    float64\n",
       "dtype: object"
      ]
     },
     "execution_count": 8,
     "metadata": {},
     "output_type": "execute_result"
    }
   ],
   "source": [
    "# Tipos de Dados\n",
    "dados.dtypes"
   ]
  },
  {
   "cell_type": "code",
   "execution_count": 9,
   "metadata": {},
   "outputs": [
    {
     "data": {
      "text/plain": [
       "(5037, 6)"
      ]
     },
     "execution_count": 9,
     "metadata": {},
     "output_type": "execute_result"
    }
   ],
   "source": [
    "# Shape\n",
    "dados.shape"
   ]
  },
  {
   "cell_type": "code",
   "execution_count": 10,
   "metadata": {},
   "outputs": [
    {
     "data": {
      "text/html": [
       "<div>\n",
       "<style scoped>\n",
       "    .dataframe tbody tr th:only-of-type {\n",
       "        vertical-align: middle;\n",
       "    }\n",
       "\n",
       "    .dataframe tbody tr th {\n",
       "        vertical-align: top;\n",
       "    }\n",
       "\n",
       "    .dataframe thead th {\n",
       "        text-align: right;\n",
       "    }\n",
       "</style>\n",
       "<table border=\"1\" class=\"dataframe\">\n",
       "  <thead>\n",
       "    <tr style=\"text-align: right;\">\n",
       "      <th></th>\n",
       "      <th>Abertura</th>\n",
       "      <th>Fechamento</th>\n",
       "      <th>Maximo</th>\n",
       "      <th>Minimo</th>\n",
       "      <th>Volume</th>\n",
       "      <th>Mudanca(%)</th>\n",
       "    </tr>\n",
       "  </thead>\n",
       "  <tbody>\n",
       "    <tr>\n",
       "      <th>count</th>\n",
       "      <td>5037.000000</td>\n",
       "      <td>5037.000000</td>\n",
       "      <td>5037.000000</td>\n",
       "      <td>5037.000000</td>\n",
       "      <td>5037.000000</td>\n",
       "      <td>5037.000000</td>\n",
       "    </tr>\n",
       "    <tr>\n",
       "      <th>mean</th>\n",
       "      <td>35.002488</td>\n",
       "      <td>35.001910</td>\n",
       "      <td>35.589655</td>\n",
       "      <td>34.377016</td>\n",
       "      <td>9.748444</td>\n",
       "      <td>0.152400</td>\n",
       "    </tr>\n",
       "    <tr>\n",
       "      <th>std</th>\n",
       "      <td>62.600066</td>\n",
       "      <td>62.596556</td>\n",
       "      <td>63.605892</td>\n",
       "      <td>61.530026</td>\n",
       "      <td>26.663983</td>\n",
       "      <td>4.423538</td>\n",
       "    </tr>\n",
       "    <tr>\n",
       "      <th>min</th>\n",
       "      <td>0.640000</td>\n",
       "      <td>0.640000</td>\n",
       "      <td>0.670000</td>\n",
       "      <td>0.620000</td>\n",
       "      <td>0.000000</td>\n",
       "      <td>-61.630000</td>\n",
       "    </tr>\n",
       "    <tr>\n",
       "      <th>25%</th>\n",
       "      <td>2.960000</td>\n",
       "      <td>2.980000</td>\n",
       "      <td>3.050000</td>\n",
       "      <td>2.900000</td>\n",
       "      <td>0.310000</td>\n",
       "      <td>-1.520000</td>\n",
       "    </tr>\n",
       "    <tr>\n",
       "      <th>50%</th>\n",
       "      <td>6.320000</td>\n",
       "      <td>6.280000</td>\n",
       "      <td>6.460000</td>\n",
       "      <td>6.130000</td>\n",
       "      <td>1.230000</td>\n",
       "      <td>0.000000</td>\n",
       "    </tr>\n",
       "    <tr>\n",
       "      <th>75%</th>\n",
       "      <td>25.820000</td>\n",
       "      <td>25.890000</td>\n",
       "      <td>26.270000</td>\n",
       "      <td>25.530000</td>\n",
       "      <td>5.840000</td>\n",
       "      <td>1.490000</td>\n",
       "    </tr>\n",
       "    <tr>\n",
       "      <th>max</th>\n",
       "      <td>330.600000</td>\n",
       "      <td>331.000000</td>\n",
       "      <td>336.000000</td>\n",
       "      <td>326.600000</td>\n",
       "      <td>711.800000</td>\n",
       "      <td>48.070000</td>\n",
       "    </tr>\n",
       "  </tbody>\n",
       "</table>\n",
       "</div>"
      ],
      "text/plain": [
       "          Abertura   Fechamento       Maximo       Minimo       Volume  \\\n",
       "count  5037.000000  5037.000000  5037.000000  5037.000000  5037.000000   \n",
       "mean     35.002488    35.001910    35.589655    34.377016     9.748444   \n",
       "std      62.600066    62.596556    63.605892    61.530026    26.663983   \n",
       "min       0.640000     0.640000     0.670000     0.620000     0.000000   \n",
       "25%       2.960000     2.980000     3.050000     2.900000     0.310000   \n",
       "50%       6.320000     6.280000     6.460000     6.130000     1.230000   \n",
       "75%      25.820000    25.890000    26.270000    25.530000     5.840000   \n",
       "max     330.600000   331.000000   336.000000   326.600000   711.800000   \n",
       "\n",
       "        Mudanca(%)  \n",
       "count  5037.000000  \n",
       "mean      0.152400  \n",
       "std       4.423538  \n",
       "min     -61.630000  \n",
       "25%      -1.520000  \n",
       "50%       0.000000  \n",
       "75%       1.490000  \n",
       "max      48.070000  "
      ]
     },
     "execution_count": 10,
     "metadata": {},
     "output_type": "execute_result"
    }
   ],
   "source": [
    "# Sumário estatístico\n",
    "dados.describe()"
   ]
  },
  {
   "cell_type": "markdown",
   "metadata": {},
   "source": [
    "## Visualizando o Preço Diário de Fechamento das Ações no Tempo"
   ]
  },
  {
   "cell_type": "code",
   "execution_count": 11,
   "metadata": {},
   "outputs": [
    {
     "data": {
      "image/png": "[encoded data removed]",
      "text/plain": [
       "<Figure size 432x288 with 1 Axes>"
      ]
     },
     "metadata": {
      "needs_background": "light"
     },
     "output_type": "display_data"
    }
   ],
   "source": [
    "# Plot\n",
    "plt.plot(dados[\"Fechamento\"])\n",
    "plt.title(\"Preço Diário de Fechamento das Ações\", size = 14)\n",
    "plt.show()"
   ]
  },
  {
   "cell_type": "markdown",
   "metadata": {},
   "source": [
    "Vamos calcular o retorno diário da série."
   ]
  },
  {
   "cell_type": "code",
   "execution_count": 12,
   "metadata": {},
   "outputs": [
    {
     "data": {
      "text/plain": [
       "Data\n",
       "2020-03-10    0.000000\n",
       "2020-03-09   -0.001110\n",
       "2020-03-06    0.085926\n",
       "2020-03-05    0.015007\n",
       "2020-03-04   -0.006720\n",
       "Name: Fechamento, dtype: float64"
      ]
     },
     "execution_count": 12,
     "metadata": {},
     "output_type": "execute_result"
    }
   ],
   "source": [
    "# Calculando o percentual de mudança na cotação de fechamento diário das ações\n",
    "# Ou seja, quanto o valor de fechamento varia de um dia para outro, o retorno diário da ação\n",
    "retorno_diario = dados[\"Fechamento\"].pct_change().dropna()\n",
    "retorno_diario.head()"
   ]
  },
  {
   "cell_type": "markdown",
   "metadata": {},
   "source": [
    "Vamos calcular o retorno acumulado da série."
   ]
  },
  {
   "cell_type": "code",
   "execution_count": 13,
   "metadata": {},
   "outputs": [
    {
     "data": {
      "text/plain": [
       "0.2245652978172401"
      ]
     },
     "execution_count": 13,
     "metadata": {},
     "output_type": "execute_result"
    }
   ],
   "source": [
    "# Retorno acumulado\n",
    "retorno_diario_acumulado = (1 + retorno_diario).cumprod() - 1\n",
    "retorno_diario_acumulado.max()"
   ]
  },
  {
   "cell_type": "markdown",
   "metadata": {},
   "source": [
    "### Análise Exploratória e Estatística Descritiva"
   ]
  },
  {
   "cell_type": "markdown",
   "metadata": {},
   "source": [
    "Vamos usar a estatística para calcular o retorno médio e a variação (desvio padrão)."
   ]
  },
  {
   "cell_type": "code",
   "execution_count": 14,
   "metadata": {},
   "outputs": [],
   "source": [
    "# Média do fechamento diário da cotação das ações\n",
    "media_retorno_diario = np.mean(retorno_diario)"
   ]
  },
  {
   "cell_type": "code",
   "execution_count": 15,
   "metadata": {},
   "outputs": [],
   "source": [
    "# Desvio padrão do fechamento diário da cotação das ações\n",
    "desvio_retorno_diario = np.std(retorno_diario)"
   ]
  },
  {
   "cell_type": "code",
   "execution_count": 16,
   "metadata": {},
   "outputs": [
    {
     "name": "stdout",
     "output_type": "stream",
     "text": [
      "Média do Retorno de Fechamento: 0.00045753294896881046\n",
      "Desvio Padrão do Retorno de Fechamento: 0.047851416559428164\n"
     ]
    }
   ],
   "source": [
    "# Média e desvio padrão\n",
    "print(\"Média do Retorno de Fechamento:\", media_retorno_diario)\n",
    "print(\"Desvio Padrão do Retorno de Fechamento:\", desvio_retorno_diario)"
   ]
  },
  {
   "cell_type": "markdown",
   "metadata": {},
   "source": [
    "Vamos considerar o ano com 252 dias de funcionamento da bolsa americana."
   ]
  },
  {
   "cell_type": "code",
   "execution_count": 17,
   "metadata": {},
   "outputs": [
    {
     "name": "stdout",
     "output_type": "stream",
     "text": [
      "Retorno Médio Anualizado de Fechamento: 0.12217855548103884\n",
      "Desvio Padrão Anualizado de Fechamento: 0.7596176885904296\n"
     ]
    }
   ],
   "source": [
    "# Média e desvio padrão no ano (considerando 252 dias úteis de operações na bolsa americana)\n",
    "print(\"Retorno Médio Anualizado de Fechamento:\", (1 + media_retorno_diario) ** 252 - 1)\n",
    "print(\"Desvio Padrão Anualizado de Fechamento:\", desvio_retorno_diario*np.sqrt(252))"
   ]
  },
  {
   "cell_type": "markdown",
   "metadata": {},
   "source": [
    "Embora nos últimos anos a performance das ações tenha sido boa, na média o ganho tem sido baixo, embora positivo. No longo prazo o investidor não perdeu dinheiro. Vamos criar um plot com o Retorno Diário."
   ]
  },
  {
   "cell_type": "code",
   "execution_count": 18,
   "metadata": {},
   "outputs": [
    {
     "data": {
      "image/png": "[encoded data removed]",
      "text/plain": [
       "<Figure size 432x288 with 1 Axes>"
      ]
     },
     "metadata": {
      "needs_background": "light"
     },
     "output_type": "display_data"
    }
   ],
   "source": [
    "# Plot\n",
    "plt.plot(retorno_diario)\n",
    "plt.title(\"Retorno Diário\", size = 14)\n",
    "plt.show()"
   ]
  },
  {
   "cell_type": "markdown",
   "metadata": {},
   "source": [
    "Com apenas duas grandes variações, o retorno diário tem sido constante ao longo do tempo. Vamos criar um histograma com a dstribuição do retorno diário."
   ]
  },
  {
   "cell_type": "code",
   "execution_count": 19,
   "metadata": {},
   "outputs": [
    {
     "data": {
      "image/png": "[encoded data removed]",
      "text/plain": [
       "<Figure size 432x288 with 1 Axes>"
      ]
     },
     "metadata": {
      "needs_background": "light"
     },
     "output_type": "display_data"
    }
   ],
   "source": [
    "# Plot\n",
    "plt.hist(retorno_diario, bins = 75)\n",
    "plt.title(\"Histograma do Retorno Diário\", size = 14)\n",
    "plt.show()"
   ]
  },
  {
   "cell_type": "markdown",
   "metadata": {},
   "source": [
    "Os valores estão bem próximos mesmo da média. Mas vamos confirmar isso calculando curtose e assimetria."
   ]
  },
  {
   "cell_type": "code",
   "execution_count": 20,
   "metadata": {},
   "outputs": [
    {
     "name": "stdout",
     "output_type": "stream",
     "text": [
      "Curtose: 278.4606940718125\n",
      "Assimetria: 8.379693825200768\n"
     ]
    }
   ],
   "source": [
    "# Calculando curtose e assimetria\n",
    "print(\"Curtose:\", kurtosis(retorno_diario))\n",
    "print(\"Assimetria:\", skew(retorno_diario))"
   ]
  },
  {
   "cell_type": "markdown",
   "metadata": {},
   "source": [
    "A curtose indica que os registros estão bem próximos da média. Mas a assimetria indica que os dados estão bem distorcidos e distantes de uma distribuição normal. Vamos aplicar o teste de normalidade na série."
   ]
  },
  {
   "cell_type": "markdown",
   "metadata": {},
   "source": [
    "### Teste de Normalidade Shapiro-Wilk "
   ]
  },
  {
   "cell_type": "code",
   "execution_count": 21,
   "metadata": {},
   "outputs": [
    {
     "name": "stdout",
     "output_type": "stream",
     "text": [
      "Rejeitamos a Hipótese Nula de Normalidade dos Dados.\n"
     ]
    }
   ],
   "source": [
    "# Executa o teste de normalidade para a série\n",
    "teste_normalidade = shapiro(retorno_diario)[1]\n",
    "\n",
    "# Verifica o retorno com base no valor-p de 0.05\n",
    "if teste_normalidade <= 0.05:\n",
    "    print(\"Rejeitamos a Hipótese Nula de Normalidade dos Dados.\")\n",
    "else:\n",
    "    print(\"Falhamos em Rejeitar a Hipótese Nula de Normalidade dos Dados.\")"
   ]
  },
  {
   "cell_type": "code",
   "execution_count": 22,
   "metadata": {},
   "outputs": [
    {
     "data": {
      "text/plain": [
       "0.0"
      ]
     },
     "execution_count": 22,
     "metadata": {},
     "output_type": "execute_result"
    }
   ],
   "source": [
    "teste_normalidade"
   ]
  },
  {
   "cell_type": "markdown",
   "metadata": {},
   "source": [
    "Como imaginávamos a distribuição não é normal. Vamos aplicar uma transformação de log à série e então aplicar a técnica de diferenciação para retirar da série os padrões de tendência e deixarmos apenas os dados reais, que nos interessam. Com isso calculamos o retorno diário."
   ]
  },
  {
   "cell_type": "code",
   "execution_count": 23,
   "metadata": {},
   "outputs": [],
   "source": [
    "# Transformação de log e diferenciação para cálculo do retorno diário\n",
    "log_retorno_diario = (np.log(dados[\"Fechamento\"]) - np.log(dados[\"Fechamento\"]).shift(-1)).dropna()\n",
    "\n",
    "# Calculamos média e desvio padrão após a transformação\n",
    "log_media_retorno_diario = np.mean(log_retorno_diario)\n",
    "log_desvio_retorno_diario = np.std(log_retorno_diario)"
   ]
  },
  {
   "cell_type": "markdown",
   "metadata": {},
   "source": [
    "Vamos criar um plot com o retorno diário da série transformada."
   ]
  },
  {
   "cell_type": "code",
   "execution_count": 24,
   "metadata": {},
   "outputs": [
    {
     "data": {
      "image/png": "[encoded data removed]",
      "text/plain": [
       "<Figure size 432x288 with 1 Axes>"
      ]
     },
     "metadata": {
      "needs_background": "light"
     },
     "output_type": "display_data"
    }
   ],
   "source": [
    "# Plot\n",
    "plt.plot(log_retorno_diario)\n",
    "plt.title(\"Retorno Diário (Log Transformation)\", size = 14)\n",
    "plt.show()"
   ]
  },
  {
   "cell_type": "code",
   "execution_count": 25,
   "metadata": {},
   "outputs": [
    {
     "data": {
      "image/png": "[encoded data removed]",
      "text/plain": [
       "<Figure size 432x288 with 1 Axes>"
      ]
     },
     "metadata": {
      "needs_background": "light"
     },
     "output_type": "display_data"
    }
   ],
   "source": [
    "# Plot\n",
    "plt.hist(log_retorno_diario, bins = 75)\n",
    "plt.title(\"Histograma do Retorno Diário (Log Transformation)\", size = 14)\n",
    "plt.show()"
   ]
  },
  {
   "cell_type": "code",
   "execution_count": 26,
   "metadata": {},
   "outputs": [
    {
     "name": "stdout",
     "output_type": "stream",
     "text": [
      "Curtose: 63.102709019136654\n",
      "Assimetria: -1.3916921515501128\n"
     ]
    }
   ],
   "source": [
    "# Calculando curtose e assimetria\n",
    "print(\"Curtose:\", kurtosis(log_retorno_diario))\n",
    "print(\"Assimetria:\", skew(log_retorno_diario))"
   ]
  },
  {
   "cell_type": "code",
   "execution_count": 27,
   "metadata": {},
   "outputs": [
    {
     "name": "stdout",
     "output_type": "stream",
     "text": [
      "Rejeitamos a Hipótese Nula de Normalidade dos Dados.\n"
     ]
    }
   ],
   "source": [
    "# Executa o teste de normalidade para a série\n",
    "teste_normalidade = shapiro(log_retorno_diario)[1]\n",
    "\n",
    "# Verifica o retorno com base no valor-p de 0.05\n",
    "if teste_normalidade <= 0.05:\n",
    "    print(\"Rejeitamos a Hipótese Nula de Normalidade dos Dados.\")\n",
    "else:\n",
    "    print(\"Falhamos em Rejeitar a Hipótese Nula de Normalidade dos Dados.\")"
   ]
  },
  {
   "cell_type": "markdown",
   "metadata": {},
   "source": [
    "Os dados ainda não são normais, porém reduzimos a distorção dos dados. Poderíamos aplicar outras transformações, mas para o objetivo este estudo isso é suficiente. Seguimos com a série transformada."
   ]
  },
  {
   "cell_type": "markdown",
   "metadata": {},
   "source": [
    "### Valor Histórico\n",
    "\n",
    "Vamos calcular o valor histórico do preço da ação."
   ]
  },
  {
   "cell_type": "code",
   "execution_count": 28,
   "metadata": {},
   "outputs": [
    {
     "name": "stdout",
     "output_type": "stream",
     "text": [
      "Certeza de que as perdas diárias não excederão o VaR% em um determinado dia com base em valores históricos.\n",
      "VaR 95%: -0.05391118257211601\n"
     ]
    }
   ],
   "source": [
    "# Nível de variância\n",
    "var_level = 95\n",
    "var = np.percentile(log_retorno_diario, 100 - var_level)\n",
    "print(\"Certeza de que as perdas diárias não excederão o VaR% em um determinado dia com base em valores históricos.\")\n",
    "print(\"VaR 95%:\", var)"
   ]
  },
  {
   "cell_type": "code",
   "execution_count": 29,
   "metadata": {},
   "outputs": [
    {
     "data": {
      "text/plain": [
       "-0.12054906897865336"
      ]
     },
     "execution_count": 29,
     "metadata": {},
     "output_type": "execute_result"
    }
   ],
   "source": [
    "# Var para os próximos 5 dias\n",
    "var * np.sqrt(5)"
   ]
  },
  {
   "cell_type": "markdown",
   "metadata": {},
   "source": [
    "### Valor Histórico Condicional"
   ]
  },
  {
   "cell_type": "code",
   "execution_count": 30,
   "metadata": {},
   "outputs": [
    {
     "name": "stdout",
     "output_type": "stream",
     "text": [
      "Nos piores 5% dos casos, as perdas foram, em média, superiores ao percentual histórico.\n",
      "CVaR 95%: -0.09528907737617054\n"
     ]
    }
   ],
   "source": [
    "# Nível de variância\n",
    "var_level = 95\n",
    "var = np.percentile(log_retorno_diario, 100 - var_level)\n",
    "cvar = log_retorno_diario[log_retorno_diario < var].mean()\n",
    "print(\"Nos piores 5% dos casos, as perdas foram, em média, superiores ao percentual histórico.\")\n",
    "print(\"CVaR 95%:\", cvar)"
   ]
  },
  {
   "cell_type": "markdown",
   "metadata": {},
   "source": [
    "### Monte Carlo simulation"
   ]
  },
  {
   "cell_type": "code",
   "execution_count": 31,
   "metadata": {},
   "outputs": [],
   "source": [
    "# Simulação de Monte Carlo\n",
    "\n",
    "# Número de dias a frente\n",
    "dias_posteriores = 252\n",
    "\n",
    "# Número de simulações\n",
    "simulacoes = 2500\n",
    "\n",
    "# Último valor da ação\n",
    "ultimo_preco = 270.3\n",
    "\n",
    "# Cria um array vazio com as dimensões \n",
    "results = np.empty((simulacoes, dias_posteriores))\n",
    "\n",
    "# Loop por cada simulação\n",
    "for s in range(simulacoes):\n",
    "    \n",
    "    # Calcula o retorno com dados randômicos seguindo uma distribuição normal\n",
    "    random_returns = 1 + np.random.normal(loc = log_media_retorno_diario, \n",
    "                                          scale = log_desvio_retorno_diario, \n",
    "                                          size = dias_posteriores)\n",
    "    \n",
    "    result = ultimo_preco * (random_returns.cumprod())\n",
    "    \n",
    "    results[s, :] = result"
   ]
  },
  {
   "cell_type": "code",
   "execution_count": 32,
   "metadata": {},
   "outputs": [],
   "source": [
    "# Definindo o índice da série simulada\n",
    "index = pd.date_range(\"2020-03-11\", periods = dias_posteriores, freq = \"D\")\n",
    "resultados = pd.DataFrame(results.T, index = index)\n",
    "media_resultados = resultados.apply(\"mean\", axis = 1)"
   ]
  },
  {
   "cell_type": "markdown",
   "metadata": {},
   "source": [
    "## Resultado da Simulação de Monte Carlo"
   ]
  },
  {
   "cell_type": "code",
   "execution_count": 33,
   "metadata": {},
   "outputs": [
    {
     "data": {
      "image/png": "[encoded data removed]",
      "text/plain": [
       "<Figure size 432x288 with 2 Axes>"
      ]
     },
     "metadata": {
      "needs_background": "light"
     },
     "output_type": "display_data"
    }
   ],
   "source": [
    "# Dividindo a área de plotagem em 2 subplots\n",
    "fig, ax = plt.subplots(nrows = 2, ncols = 1)\n",
    "\n",
    "# Plot\n",
    "ax[0].plot(dados[\"Fechamento\"][:\"2018-12-31\"])\n",
    "\n",
    "ax[0].plot(resultados)\n",
    "\n",
    "ax[0].axhline(270.30, c = \"orange\")\n",
    "\n",
    "ax[0].set_title(f\"Monte Carlo {simulacoes} Simulações\", size = 14)\n",
    "\n",
    "ax[0].legend([\"Preço Histórico\", \"Último Preço = 270.30\"])\n",
    "\n",
    "ax[1].plot(dados[\"Fechamento\"][:\"2018-12-31\"])\n",
    "\n",
    "ax[1].plot(resultados.apply(\"mean\", axis = 1), lw = 2)\n",
    "\n",
    "ax[1].plot(media_resultados.apply((lambda x: x * (1+1.96 * log_desvio_retorno_diario))), \n",
    "           lw = 2, linestyle = \"dotted\", c = \"gray\")\n",
    "\n",
    "ax[1].plot(media_resultados, lw = 2, c = \"orange\")\n",
    "\n",
    "ax[1].plot(media_resultados.apply((lambda x: x * (1-1.96 * log_desvio_retorno_diario))), \n",
    "           lw = 2, linestyle = \"dotted\", c = \"gray\")\n",
    "\n",
    "ax[1].set_title(f\"Resultado Médio Monte Carlo {simulacoes} Simulações\", size = 14)\n",
    "\n",
    "ax[1].legend([\"Preço\", \"Previsão Média\", \"2x Desvio Padrao\"])\n",
    "\n",
    "plt.show()"
   ]
  },
  {
   "cell_type": "markdown",
   "metadata": {},
   "source": [
    "A previsão é positiva com os dados simulados e no longo prazo as ações da CDR tendem a valorizar. Mas não espere um grande retorno dessas ações."
   ]
  }
 ],
 "metadata": {
  "kernelspec": {
   "display_name": "Python 3",
   "language": "python",
   "name": "python3"
  },
  "language_info": {
   "codemirror_mode": {
    "name": "ipython",
    "version": 3
   },
   "file_extension": ".py",
   "mimetype": "text/x-python",
   "name": "python",
   "nbconvert_exporter": "python",
   "pygments_lexer": "ipython3",
   "version": "3.7.3"
  }
 },
 "nbformat": 4,
 "nbformat_minor": 4
}
