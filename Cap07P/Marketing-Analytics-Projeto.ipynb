{
 "cells": [
  {
   "cell_type": "markdown",
   "metadata": {},
   "source": [
    "\n",
    "# <font color='blue'>Business Analytics</font>\n",
    "\n",
    "# <font color='blue'>Marketing Analytics</font>\n",
    "# <font color='blue'>Projeto </font>\n",
    "## <font color='blue'>Otimização de Preços e Mix de Produtos</font>"
   ]
  },
  {
   "cell_type": "code",
   "execution_count": 1,
   "metadata": {},
   "outputs": [
    {
     "name": "stdout",
     "output_type": "stream",
     "text": [
      "Versão da Linguagem Python Usada Neste Jupyter Notebook: 3.7.6\n"
     ]
    }
   ],
   "source": [
    "# Versão da Linguagem Python\n",
    "from platform import python_version\n",
    "print('Versão da Linguagem Python Usada Neste Jupyter Notebook:', python_version())"
   ]
  },
  {
   "cell_type": "markdown",
   "metadata": {},
   "source": [
    "![title](imagens/projeto4.png)"
   ]
  },
  {
   "cell_type": "markdown",
   "metadata": {},
   "source": [
    "## Marketing Analytics\n",
    "\n",
    "Marketing Analytics compreende os processos e tecnologias que permitem aos profissionais de Marketing avaliar o sucesso de suas iniciativas. \n",
    "\n",
    "Isso é feito medindo o desempenho das campanhas de Marketing, coletando os dados e analisando os resultados. Marketing Analytics utiliza métricas importantes de negócios, como ROI (Retorno Sobre o Investimento), Atribuição de Marketing e Eficácia Geral do Marketing. Em outras palavras, o Marketing Analytics mostra se os programas de Marketing estão sendo efetivos ou não.\n",
    "\n",
    "Marketing Analytics reúne dados de todos os canais de marketing e os consolida em uma visão de marketing comum. A partir dessa visão comum, você pode extrair resultados analíticos que podem fornecer assistência inestimável para impulsionar os esforços de marketing."
   ]
  },
  {
   "cell_type": "markdown",
   "metadata": {},
   "source": [
    "## Definindo o Problema\n",
    "\n",
    "## Lua Tech\n",
    "\n",
    "A empresa Lua Smart Tech monta e testa dois modelos de smartphones, Lua1 e Lua2.\n",
    "\n",
    "Para o próximo mês, a empresa quer decidir quantas unidades de cada modelo vai montar e depois testar.\n",
    "\n",
    "Nenhum smartphone está em estoque desde o mês anterior e, como esses modelos serão trocados depois deste mês, a empresa não quer manter nenhum estoque para o mês seguinte.\n",
    "\n",
    "Ela acredita que o máximo que pode vender neste mês são 600 unidades do modelo Lua1 e 1200 unidades do modelo Lua2. Cada modelo Lua1 é vendido por R$300 e cada modelo Lua2 por R$450. \n",
    "\n",
    "O custo dos componentes de um Lua1 é de R$150 e para um Lua2 é R$225. A mão de obra é necessária para a montagem e teste. Existem no máximo 10.000 horas de montagem e 3.000 horas de teste disponíveis. \n",
    "\n",
    "Cada hora de trabalho para montagem custa R$11 e cada hora de trabalho para teste custa R$15. Cada Lua1 requer cinco horas para montagem e uma hora para teste. \n",
    "\n",
    "Cada Lua2 requer seis horas para montagem e duas horas para teste. \n",
    "\n",
    "A Lua Smart Tech deseja saber quantas unidades de cada modelo deve produzir (montar e testar) para maximizar seu lucro líquido, mas não pode usar mais horas de trabalho do que as disponíveis e não deseja produzir mais do que pode vender. \n",
    "\n",
    "O trabalho é realizar a otimização de preços e mix dos produtos da Lua Smart Tech.\n",
    "\n"
   ]
  },
  {
   "cell_type": "markdown",
   "metadata": {},
   "source": [
    "## Instalando e Carregando os Pacotes"
   ]
  },
  {
   "cell_type": "code",
   "execution_count": 2,
   "metadata": {},
   "outputs": [],
   "source": [
    "# Para atualizar um pacote, execute o comando abaixo no terminal ou prompt de comando:\n",
    "# pip install -U nome_pacote\n",
    "\n",
    "# Para instalar a versão exata de um pacote, execute o comando abaixo no terminal ou prompt de comando:\n",
    "# !pip install nome_pacote==versão_desejada\n",
    "\n",
    "# Depois de instalar ou atualizar o pacote, reinicie o jupyter notebook.\n",
    "\n",
    "# Instala o pacote watermark. \n",
    "# Esse pacote é usado para gravar as versões de outros pacotes usados neste jupyter notebook.\n",
    "#!pip install -q -U watermark"
   ]
  },
  {
   "cell_type": "code",
   "execution_count": 1,
   "metadata": {},
   "outputs": [],
   "source": [
    "# Instala o PuLP\n",
    "# https://pypi.org/project/PuLP/\n",
    "# https://coin-or.github.io/pulp/\n",
    "!pip install -q pulp"
   ]
  },
  {
   "cell_type": "code",
   "execution_count": 2,
   "metadata": {},
   "outputs": [],
   "source": [
    "# Imports\n",
    "from pulp import *"
   ]
  },
  {
   "cell_type": "code",
   "execution_count": 3,
   "metadata": {},
   "outputs": [
    {
     "name": "stdout",
     "output_type": "stream",
     "text": [
      "Author: João Souza\n",
      "\n",
      "sys    : 3.7.3 (default, Mar 27 2019, 22:11:17) \n",
      "[GCC 7.3.0]\n",
      "re     : 2.2.1\n",
      "pulp   : 2.6.0\n",
      "ctypes : 1.1.0\n",
      "json   : 2.0.9\n",
      "logging: 0.5.1.2\n",
      "\n"
     ]
    }
   ],
   "source": [
    "# Versões dos pacotes usados neste jupyter notebook\n",
    "%reload_ext watermark\n",
    "%watermark -a \"João Souza\" --iversions"
   ]
  },
  {
   "cell_type": "markdown",
   "metadata": {},
   "source": [
    "## Criando o Modelo Matemático Para a Otimização"
   ]
  },
  {
   "cell_type": "markdown",
   "metadata": {},
   "source": [
    "### Parâmetros"
   ]
  },
  {
   "cell_type": "markdown",
   "metadata": {},
   "source": [
    "- Ai = Número máximo de smartphones modelo tipo i para vender este mês, onde i pertence ao conjunto {Lua1, Lua2}\n",
    "- Bi = Preço de venda de smartphones modelo tipo i, onde i pertence ao conjunto {Lua1, Lua2}\n",
    "- Ci = Preço de custo das peças componentes para smartphones modelo tipo i, onde i pertence ao conjunto {Lua1, Lua2}\n",
    "- Di = Custo de mão de obra de montagem por hora de smartphones modelo tipo i, onde i pertence ao conjunto {Lua1, Lua2}\n",
    "- Ei = Custo de mão de obra de teste por hora de smartphones modelo tipo i, onde i pertence ao conjunto {Lua1, Lua2}\n",
    "- F = Número máximo de horas de trabalho de montagem\n",
    "- G = Número máximo de horas de trabalho de teste\n",
    "- Hf,i = Horas de montagem necessárias para construir cada modelo de smartphone tipo i, onde i pertence ao conjunto {Lua1, Lua2}\n",
    "- Hg,i = Horas de teste necessárias para testar cada modelo de smartphone tipo i, onde i pertence ao conjunto {Lua1, Lua2}"
   ]
  },
  {
   "cell_type": "markdown",
   "metadata": {},
   "source": [
    "### Variável de Decisão"
   ]
  },
  {
   "cell_type": "markdown",
   "metadata": {},
   "source": [
    "- Xi = Número de smartphones modelo tipo i a produzir este mês, onde i pertence ao conjunto {Lua1, Lua2}"
   ]
  },
  {
   "cell_type": "markdown",
   "metadata": {},
   "source": [
    "### Função Objetivo"
   ]
  },
  {
   "cell_type": "markdown",
   "metadata": {},
   "source": [
    "![title](imagens/formula.png)"
   ]
  },
  {
   "cell_type": "markdown",
   "metadata": {},
   "source": [
    "### Restrições"
   ]
  },
  {
   "cell_type": "markdown",
   "metadata": {},
   "source": [
    "- O número de smartphones modelo tipo i a serem produzidos não pode ser negativo, ou seja, Xi >= 0, onde i pertence ao conjunto {Lua1, Lua2}.\n",
    "\n",
    "\n",
    "- O número total de horas de montagem não pode ser maior que o número máximo de horas de mão de obra de montagem disponíveis.\n",
    "\n",
    "\n",
    "- O número total de horas de teste não pode ser maior do que o máximo de horas de mão de obra de teste disponíveis.\n",
    "\n",
    "\n",
    "- O número de smartphones modelo tipo i a serem produzidos não pode ser maior do que o número máximo de smartphones modelo tipo i a serem vendidos neste mês, onde i pertence ao conjunto {Lua1, Lua2}."
   ]
  },
  {
   "cell_type": "markdown",
   "metadata": {},
   "source": [
    "## Implementando o Modelo Matemático\n",
    "\n",
    "### Organizando os Parâmetros"
   ]
  },
  {
   "cell_type": "code",
   "execution_count": 4,
   "metadata": {},
   "outputs": [],
   "source": [
    "# Número máximo de smartphones para vender este mês\n",
    "A_Lua1 = 600\n",
    "A_Lua2 = 1200"
   ]
  },
  {
   "cell_type": "code",
   "execution_count": 5,
   "metadata": {},
   "outputs": [],
   "source": [
    "# Preço de venda de smartphones \n",
    "B_Lua1 = 300 \n",
    "B_Lua2 = 450 "
   ]
  },
  {
   "cell_type": "code",
   "execution_count": 6,
   "metadata": {},
   "outputs": [],
   "source": [
    "# Preço de custo das peças componentes para smartphones\n",
    "C_Lua1 = 150\n",
    "C_Lua2 = 225"
   ]
  },
  {
   "cell_type": "code",
   "execution_count": 7,
   "metadata": {},
   "outputs": [],
   "source": [
    "# Custo de mão de obra de montagem por hora de smartphones\n",
    "D_Lua1 = 11\n",
    "D_Lua2 = 11"
   ]
  },
  {
   "cell_type": "code",
   "execution_count": 8,
   "metadata": {},
   "outputs": [],
   "source": [
    "# Custo de mão de obra de teste por hora de smartphones \n",
    "E_Lua1 = 15 \n",
    "E_Lua2 = 15 "
   ]
  },
  {
   "cell_type": "code",
   "execution_count": 9,
   "metadata": {},
   "outputs": [],
   "source": [
    "# Número máximo de horas de trabalho de montagem\n",
    "F = 10000 "
   ]
  },
  {
   "cell_type": "code",
   "execution_count": 10,
   "metadata": {},
   "outputs": [],
   "source": [
    "# Número máximo de horas de trabalho de teste\n",
    "G = 3000 "
   ]
  },
  {
   "cell_type": "code",
   "execution_count": 11,
   "metadata": {},
   "outputs": [],
   "source": [
    "# Horas de montagem necessárias para construir cada modelo de smartphone\n",
    "Hfi_Lua1 = 5\n",
    "Hfi_Lua2 = 6"
   ]
  },
  {
   "cell_type": "code",
   "execution_count": 12,
   "metadata": {},
   "outputs": [],
   "source": [
    "# Horas de teste necessárias para testar cada modelo de smartphone\n",
    "Hgi_Lua1 = 1 \n",
    "Hgi_Lua2 = 2"
   ]
  },
  {
   "cell_type": "markdown",
   "metadata": {},
   "source": [
    "### Criação da Variável Para o Problema de Otimização"
   ]
  },
  {
   "cell_type": "code",
   "execution_count": 15,
   "metadata": {},
   "outputs": [
    {
     "name": "stdout",
     "output_type": "stream",
     "text": [
      "Help on class LpProblem in module pulp.pulp:\n",
      "\n",
      "class LpProblem(builtins.object)\n",
      " |  LpProblem(name='NoName', sense=1)\n",
      " |  \n",
      " |  An LP Problem\n",
      " |  \n",
      " |  Methods defined here:\n",
      " |  \n",
      " |  __getstate__(self)\n",
      " |  \n",
      " |  __iadd__(self, other)\n",
      " |  \n",
      " |  __init__(self, name='NoName', sense=1)\n",
      " |      Creates an LP Problem\n",
      " |      \n",
      " |      This function creates a new LP Problem  with the specified associated parameters\n",
      " |      \n",
      " |      :param name: name of the problem used in the output .lp file\n",
      " |      :param sense: of the LP problem objective.                  Either :data:`~pulp.const.LpMinimize` (default)                 or :data:`~pulp.const.LpMaximize`.\n",
      " |      :return: An LP Problem\n",
      " |  \n",
      " |  __repr__(self)\n",
      " |      Return repr(self).\n",
      " |  \n",
      " |  __setstate__(self, state)\n",
      " |  \n",
      " |  add(self, constraint, name=None)\n",
      " |  \n",
      " |  addConstraint(self, constraint, name=None)\n",
      " |  \n",
      " |  addVariable(self, variable)\n",
      " |      Adds a variable to the problem before a constraint is added\n",
      " |      \n",
      " |      @param variable: the variable to be added\n",
      " |  \n",
      " |  addVariables(self, variables)\n",
      " |      Adds variables to the problem before a constraint is added\n",
      " |      \n",
      " |      @param variables: the variables to be added\n",
      " |  \n",
      " |  assignConsPi(self, values)\n",
      " |  \n",
      " |  assignConsSlack(self, values, activity=False)\n",
      " |  \n",
      " |  assignStatus(self, status, sol_status=None)\n",
      " |      Sets the status of the model after solving.\n",
      " |      :param status: code for the status of the model\n",
      " |      :param sol_status: code for the status of the solution\n",
      " |      :return:\n",
      " |  \n",
      " |  assignVarsDj(self, values)\n",
      " |  \n",
      " |  assignVarsVals(self, values)\n",
      " |  \n",
      " |  checkDuplicateVars(self)\n",
      " |      Checks if there are at least two variables with the same name\n",
      " |      :return: 1\n",
      " |      :raises `const.PulpError`: if there ar duplicates\n",
      " |  \n",
      " |  checkLengthVars(self, max_length)\n",
      " |      Checks if variables have names smaller than `max_length`\n",
      " |      :param int max_length: max size for variable name\n",
      " |      :return:\n",
      " |      :raises const.PulpError: if there is at least one variable that has a long name\n",
      " |  \n",
      " |  coefficients(self, translation=None)\n",
      " |  \n",
      " |  copy(self)\n",
      " |      Make a copy of self. Expressions are copied by reference\n",
      " |  \n",
      " |  deepcopy(self)\n",
      " |      Make a copy of self. Expressions are copied by value\n",
      " |  \n",
      " |  extend(self, other, use_objective=True)\n",
      " |      extends an LpProblem by adding constraints either from a dictionary\n",
      " |      a tuple or another LpProblem object.\n",
      " |      \n",
      " |      @param use_objective: determines whether the objective is imported from\n",
      " |      the other problem\n",
      " |      \n",
      " |      For dictionaries the constraints will be named with the keys\n",
      " |      For tuples an unique name will be generated\n",
      " |      For LpProblems the name of the problem will be added to the constraints\n",
      " |      name\n",
      " |  \n",
      " |  fixObjective(self)\n",
      " |  \n",
      " |  getSense(self)\n",
      " |  \n",
      " |  get_dummyVar(self)\n",
      " |  \n",
      " |  infeasibilityGap(self, mip=1)\n",
      " |  \n",
      " |  isMIP(self)\n",
      " |  \n",
      " |  normalisedNames(self)\n",
      " |  \n",
      " |  numConstraints(self)\n",
      " |      :return: number of constraints in model\n",
      " |  \n",
      " |  numVariables(self)\n",
      " |      :return: number of variables in model\n",
      " |  \n",
      " |  resolve(self, solver=None, **kwargs)\n",
      " |      resolves an Problem using the same solver as previously\n",
      " |  \n",
      " |  restoreObjective(self, wasNone, dummyVar)\n",
      " |  \n",
      " |  roundSolution(self, epsInt=1e-05, eps=1e-07)\n",
      " |      Rounds the lp variables\n",
      " |      \n",
      " |      Inputs:\n",
      " |          - none\n",
      " |      \n",
      " |      Side Effects:\n",
      " |          - The lp variables are rounded\n",
      " |  \n",
      " |  sequentialSolve(self, objectives, absoluteTols=None, relativeTols=None, solver=None, debug=False)\n",
      " |      Solve the given Lp problem with several objective functions.\n",
      " |      \n",
      " |      This function sequentially changes the objective of the problem\n",
      " |      and then adds the objective function as a constraint\n",
      " |      \n",
      " |      :param objectives: the list of objectives to be used to solve the problem\n",
      " |      :param absoluteTols: the list of absolute tolerances to be applied to\n",
      " |         the constraints should be +ve for a minimise objective\n",
      " |      :param relativeTols: the list of relative tolerances applied to the constraints\n",
      " |      :param solver: the specific solver to be used, defaults to the default solver.\n",
      " |  \n",
      " |  setObjective(self, obj)\n",
      " |      Sets the input variable as the objective function. Used in Columnwise Modelling\n",
      " |      \n",
      " |      :param obj: the objective function of type :class:`LpConstraintVar`\n",
      " |      \n",
      " |      Side Effects:\n",
      " |          - The objective function is set\n",
      " |  \n",
      " |  setSolver(self, solver=<pulp.apis.coin_api.PULP_CBC_CMD object at 0x7fa716576450>)\n",
      " |      Sets the Solver for this problem useful if you are using\n",
      " |      resolve\n",
      " |  \n",
      " |  solve(self, solver=None, **kwargs)\n",
      " |      Solve the given Lp problem.\n",
      " |      \n",
      " |      This function changes the problem to make it suitable for solving\n",
      " |      then calls the solver.actualSolve() method to find the solution\n",
      " |      \n",
      " |      :param solver:  Optional: the specific solver to be used, defaults to the\n",
      " |            default solver.\n",
      " |      \n",
      " |      Side Effects:\n",
      " |          - The attributes of the problem object are changed in\n",
      " |            :meth:`~pulp.solver.LpSolver.actualSolve()` to reflect the Lp solution\n",
      " |  \n",
      " |  toDict(self)\n",
      " |      creates a dictionary from the model with as much data as possible.\n",
      " |      It replaces variables by variable names.\n",
      " |      So it requires to have unique names for variables.\n",
      " |      \n",
      " |      :return: dictionary with model data\n",
      " |      :rtype: dict\n",
      " |  \n",
      " |  toJson(self, filename, *args, **kwargs)\n",
      " |      Creates a json file from the LpProblem information\n",
      " |      \n",
      " |      :param str filename: filename to write json\n",
      " |      :param args: additional arguments for json function\n",
      " |      :param kwargs: additional keyword arguments for json function\n",
      " |      :return: None\n",
      " |  \n",
      " |  to_dict = toDict(self)\n",
      " |  \n",
      " |  to_json = toJson(self, filename, *args, **kwargs)\n",
      " |  \n",
      " |  unusedConstraintName(self)\n",
      " |  \n",
      " |  valid(self, eps=0)\n",
      " |  \n",
      " |  variables(self)\n",
      " |      Returns a list of the problem variables\n",
      " |      \n",
      " |      Inputs:\n",
      " |          - none\n",
      " |      \n",
      " |      Returns:\n",
      " |          - A list of the problem variables\n",
      " |  \n",
      " |  variablesDict(self)\n",
      " |  \n",
      " |  writeLP(self, filename, writeSOS=1, mip=1, max_length=100)\n",
      " |      Write the given Lp problem to a .lp file.\n",
      " |      \n",
      " |      This function writes the specifications (objective function,\n",
      " |      constraints, variables) of the defined Lp problem to a file.\n",
      " |      \n",
      " |      :param str filename: the name of the file to be created.\n",
      " |      :return: variables\n",
      " |      Side Effects:\n",
      " |          - The file is created\n",
      " |  \n",
      " |  writeMPS(self, filename, mpsSense=0, rename=0, mip=1)\n",
      " |      Writes an mps files from the problem information\n",
      " |      \n",
      " |      :param str filename: name of the file to write\n",
      " |      :param int mpsSense:\n",
      " |      :param bool rename: if True, normalized names are used for variables and constraints\n",
      " |      :param mip: variables and variable renames\n",
      " |      :return:\n",
      " |      Side Effects:\n",
      " |          - The file is created\n",
      " |  \n",
      " |  ----------------------------------------------------------------------\n",
      " |  Class methods defined here:\n",
      " |  \n",
      " |  fromDict(_dict) from builtins.type\n",
      " |      Takes a dictionary with all necessary information to build a model.\n",
      " |      And returns a dictionary of variables and a problem object\n",
      " |      \n",
      " |      :param _dict: dictionary with the model stored\n",
      " |      :return: a tuple with a dictionary of variables and a :py:class:`LpProblem`\n",
      " |  \n",
      " |  fromJson(filename) from builtins.type\n",
      " |      Creates a new Lp Problem from a json file with information\n",
      " |      \n",
      " |      :param str filename: json file name\n",
      " |      :return: a tuple with a dictionary of variables and an LpProblem\n",
      " |      :rtype: (dict, :py:class:`LpProblem`)\n",
      " |  \n",
      " |  from_dict = fromDict(_dict) from builtins.type\n",
      " |      Takes a dictionary with all necessary information to build a model.\n",
      " |      And returns a dictionary of variables and a problem object\n",
      " |      \n",
      " |      :param _dict: dictionary with the model stored\n",
      " |      :return: a tuple with a dictionary of variables and a :py:class:`LpProblem`\n",
      " |  \n",
      " |  from_json = fromJson(filename) from builtins.type\n",
      " |      Creates a new Lp Problem from a json file with information\n",
      " |      \n",
      " |      :param str filename: json file name\n",
      " |      :return: a tuple with a dictionary of variables and an LpProblem\n",
      " |      :rtype: (dict, :py:class:`LpProblem`)\n",
      " |  \n",
      " |  ----------------------------------------------------------------------\n",
      " |  Static methods defined here:\n",
      " |  \n",
      " |  MPS_bound_lines(name, variable, mip)\n",
      " |  \n",
      " |  MPS_column_lines(cv, variable, mip, name, cobj, objName)\n",
      " |  \n",
      " |  ----------------------------------------------------------------------\n",
      " |  Data descriptors defined here:\n",
      " |  \n",
      " |  __dict__\n",
      " |      dictionary for instance variables (if defined)\n",
      " |  \n",
      " |  __weakref__\n",
      " |      list of weak references to the object (if defined)\n",
      "\n"
     ]
    }
   ],
   "source": [
    "help(LpProblem)"
   ]
  },
  {
   "cell_type": "code",
   "execution_count": 14,
   "metadata": {},
   "outputs": [],
   "source": [
    "# Variável para o problema\n",
    "problema = LpProblem(\"MixProdutos\", LpMaximize)"
   ]
  },
  {
   "cell_type": "code",
   "execution_count": 15,
   "metadata": {},
   "outputs": [
    {
     "data": {
      "text/plain": [
       "MixProdutos:\n",
       "MAXIMIZE\n",
       "None\n",
       "VARIABLES"
      ]
     },
     "execution_count": 15,
     "metadata": {},
     "output_type": "execute_result"
    }
   ],
   "source": [
    "# Visualiza\n",
    "problema"
   ]
  },
  {
   "cell_type": "markdown",
   "metadata": {},
   "source": [
    "### Definindo a Variável de Decisão de Cada Modelo de Smartphone"
   ]
  },
  {
   "cell_type": "code",
   "execution_count": 16,
   "metadata": {},
   "outputs": [],
   "source": [
    "#help(LpVariable)"
   ]
  },
  {
   "cell_type": "code",
   "execution_count": 17,
   "metadata": {},
   "outputs": [],
   "source": [
    "# Define as variáveis\n",
    "x_Lua1 = LpVariable(\"Unidades Lua1\", 0, None, LpInteger)\n",
    "x_Lua2 = LpVariable(\"Unidades Lua2\", 0, None, LpInteger)"
   ]
  },
  {
   "cell_type": "code",
   "execution_count": 18,
   "metadata": {},
   "outputs": [
    {
     "name": "stdout",
     "output_type": "stream",
     "text": [
      "Unidades_Lua1\n",
      "Unidades_Lua2\n"
     ]
    }
   ],
   "source": [
    "# Print\n",
    "print(x_Lua1)\n",
    "print(x_Lua2)"
   ]
  },
  {
   "cell_type": "markdown",
   "metadata": {},
   "source": [
    "### Implementando a Função Objetivo"
   ]
  },
  {
   "cell_type": "markdown",
   "metadata": {},
   "source": [
    "![title](imagens/formula.png)"
   ]
  },
  {
   "cell_type": "code",
   "execution_count": 19,
   "metadata": {},
   "outputs": [
    {
     "data": {
      "text/plain": [
       "300*Unidades_Lua1 + 450*Unidades_Lua2 + 0"
      ]
     },
     "execution_count": 19,
     "metadata": {},
     "output_type": "execute_result"
    }
   ],
   "source": [
    "# Faturamento -> unidades vendidas x valor de venda\n",
    "faturamento = (x_Lua1 * B_Lua1) + (x_Lua2 * B_Lua2)\n",
    "faturamento"
   ]
  },
  {
   "cell_type": "code",
   "execution_count": 20,
   "metadata": {},
   "outputs": [
    {
     "data": {
      "text/plain": [
       "55*Unidades_Lua1 + 66*Unidades_Lua2 + 0"
      ]
     },
     "execution_count": 20,
     "metadata": {},
     "output_type": "execute_result"
    }
   ],
   "source": [
    "# Custo de Montagem\n",
    "custo_montagem = (x_Lua1 * Hfi_Lua1 * D_Lua1) + (x_Lua2 * Hfi_Lua2 * D_Lua2)\n",
    "custo_montagem"
   ]
  },
  {
   "cell_type": "code",
   "execution_count": 21,
   "metadata": {},
   "outputs": [
    {
     "data": {
      "text/plain": [
       "15*Unidades_Lua1 + 30*Unidades_Lua2 + 0"
      ]
     },
     "execution_count": 21,
     "metadata": {},
     "output_type": "execute_result"
    }
   ],
   "source": [
    "# Custo de Teste\n",
    "custo_teste = (x_Lua1 * Hgi_Lua1 * E_Lua1) + (x_Lua2 * Hgi_Lua2 * E_Lua2)\n",
    "custo_teste"
   ]
  },
  {
   "cell_type": "code",
   "execution_count": 22,
   "metadata": {},
   "outputs": [
    {
     "data": {
      "text/plain": [
       "150*Unidades_Lua1 + 225*Unidades_Lua2 + 0"
      ]
     },
     "execution_count": 22,
     "metadata": {},
     "output_type": "execute_result"
    }
   ],
   "source": [
    "# Custo de Componentes\n",
    "custo_componentes = (x_Lua1 * C_Lua1) + (x_Lua2 * C_Lua2) \n",
    "custo_componentes"
   ]
  },
  {
   "cell_type": "code",
   "execution_count": 23,
   "metadata": {},
   "outputs": [
    {
     "data": {
      "text/plain": [
       "MixProdutos:\n",
       "MAXIMIZE\n",
       "80*Unidades_Lua1 + 129*Unidades_Lua2 + 0\n",
       "VARIABLES\n",
       "0 <= Unidades_Lua1 Integer\n",
       "0 <= Unidades_Lua2 Integer"
      ]
     },
     "execution_count": 23,
     "metadata": {},
     "output_type": "execute_result"
    }
   ],
   "source": [
    "# Lucro = Faturamento - Custo de Montagem - Custo de Teste - Custo de Componentes\n",
    "problema += faturamento - custo_montagem - custo_teste - custo_componentes\n",
    "problema"
   ]
  },
  {
   "cell_type": "markdown",
   "metadata": {},
   "source": [
    "### Restrições"
   ]
  },
  {
   "cell_type": "code",
   "execution_count": 24,
   "metadata": {},
   "outputs": [],
   "source": [
    "# Número máximo de horas de montagem\n",
    "problema += (x_Lua1 * Hfi_Lua1) + (x_Lua2 * Hfi_Lua2) <= F,\"Número Máximo de Horas de Montagem\""
   ]
  },
  {
   "cell_type": "code",
   "execution_count": 25,
   "metadata": {},
   "outputs": [],
   "source": [
    "# Número máximo de horas de teste\n",
    "problema += (x_Lua1 * Hgi_Lua1) + (x_Lua2 * Hgi_Lua2) <= G,\"Número Máximo de Horas de Teste\""
   ]
  },
  {
   "cell_type": "code",
   "execution_count": 26,
   "metadata": {},
   "outputs": [],
   "source": [
    "# Produção menor ou igual a demanda pelo modelo Lua1\n",
    "problema += x_Lua1 <= A_Lua1,\"Produção menor ou igual a demanda pelo modelo Lua1\""
   ]
  },
  {
   "cell_type": "code",
   "execution_count": 27,
   "metadata": {},
   "outputs": [],
   "source": [
    "# Produção menor ou igual a demanda pelo modelo Lua2\n",
    "problema += x_Lua2 <= A_Lua2,\"Produção menor ou igual a demanda pelo modelo Lua2\""
   ]
  },
  {
   "cell_type": "code",
   "execution_count": 28,
   "metadata": {},
   "outputs": [
    {
     "data": {
      "text/plain": [
       "MixProdutos:\n",
       "MAXIMIZE\n",
       "80*Unidades_Lua1 + 129*Unidades_Lua2 + 0\n",
       "SUBJECT TO\n",
       "Número_Máximo_de_Horas_de_Montagem: 5 Unidades_Lua1 + 6 Unidades_Lua2 <= 10000\n",
       "\n",
       "Número_Máximo_de_Horas_de_Teste: Unidades_Lua1 + 2 Unidades_Lua2 <= 3000\n",
       "\n",
       "Produção_menor_ou_igual_a_demanda_pelo_modelo_Lua1: Unidades_Lua1 <= 600\n",
       "\n",
       "Produção_menor_ou_igual_a_demanda_pelo_modelo_Lua2: Unidades_Lua2 <= 1200\n",
       "\n",
       "VARIABLES\n",
       "0 <= Unidades_Lua1 Integer\n",
       "0 <= Unidades_Lua2 Integer"
      ]
     },
     "execution_count": 28,
     "metadata": {},
     "output_type": "execute_result"
    }
   ],
   "source": [
    "# Problema final\n",
    "problema"
   ]
  },
  {
   "cell_type": "markdown",
   "metadata": {},
   "source": [
    "### Resolvendo o Problema de Otimização"
   ]
  },
  {
   "cell_type": "code",
   "execution_count": 29,
   "metadata": {},
   "outputs": [
    {
     "data": {
      "text/plain": [
       "1"
      ]
     },
     "execution_count": 29,
     "metadata": {},
     "output_type": "execute_result"
    }
   ],
   "source": [
    "# Otimização\n",
    "problema.solve()"
   ]
  },
  {
   "cell_type": "code",
   "execution_count": 30,
   "metadata": {},
   "outputs": [
    {
     "name": "stdout",
     "output_type": "stream",
     "text": [
      "Lucro Maximizado: 199600.0\n"
     ]
    }
   ],
   "source": [
    "# Lucro Maximizado\n",
    "print(\"Lucro Maximizado:\", value(problema.objective))"
   ]
  },
  {
   "cell_type": "code",
   "execution_count": 33,
   "metadata": {},
   "outputs": [
    {
     "name": "stdout",
     "output_type": "stream",
     "text": [
      "Número de Unidades do Modelo Lua 1 a Produzir: 560.0\n"
     ]
    }
   ],
   "source": [
    "# Número de Unidades do Modelo Lua 1 a Produzir\n",
    "print(\"Número de Unidades do Modelo Lua 1 a Produzir:\", problema.variables()[0].varValue)"
   ]
  },
  {
   "cell_type": "code",
   "execution_count": 31,
   "metadata": {},
   "outputs": [
    {
     "name": "stdout",
     "output_type": "stream",
     "text": [
      "Número de Unidades do Modelo Lua 2 a Produzir: 1200.0\n"
     ]
    }
   ],
   "source": [
    "# Número de Unidades do Modelo Lua 1 a Produzir\n",
    "print(\"Número de Unidades do Modelo Lua 2 a Produzir:\", problema.variables()[1].varValue)"
   ]
  },
  {
   "cell_type": "markdown",
   "metadata": {},
   "source": [
    "##  Conclusão"
   ]
  },
  {
   "cell_type": "markdown",
   "metadata": {},
   "source": [
    "A empresa Lua Smart Tech deve produzir 560 unidades do tipo de smartphone Lua1 e 1200 do tipo Lua2 para atingir o lucro máximo de R$199.600."
   ]
  },
  {
   "cell_type": "markdown",
   "metadata": {},
   "source": [
    "# Fim"
   ]
  }
 ],
 "metadata": {
  "kernelspec": {
   "display_name": "Python 3",
   "language": "python",
   "name": "python3"
  },
  "language_info": {
   "codemirror_mode": {
    "name": "ipython",
    "version": 3
   },
   "file_extension": ".py",
   "mimetype": "text/x-python",
   "name": "python",
   "nbconvert_exporter": "python",
   "pygments_lexer": "ipython3",
   "version": "3.7.3"
  }
 },
 "nbformat": 4,
 "nbformat_minor": 2
}
